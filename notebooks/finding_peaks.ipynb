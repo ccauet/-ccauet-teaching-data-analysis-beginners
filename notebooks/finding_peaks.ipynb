{
 "cells": [
  {
   "cell_type": "code",
   "execution_count": null,
   "metadata": {},
   "outputs": [],
   "source": [
    "import numpy as np\n",
    "import pandas as pd\n",
    "\n",
    "import matplotlib\n",
    "import matplotlib.pyplot as plt\n",
    "\n",
    "%matplotlib inline"
   ]
  },
  {
   "cell_type": "code",
   "execution_count": null,
   "metadata": {},
   "outputs": [],
   "source": [
    "df = pd.DataFrame(data=np.random.uniform(low=-100, high=0, size=(100, 1)), columns=['A'])"
   ]
  },
  {
   "cell_type": "code",
   "execution_count": null,
   "metadata": {},
   "outputs": [],
   "source": [
    "df.A.plot(figsize=(18,4))"
   ]
  },
  {
   "cell_type": "code",
   "execution_count": null,
   "metadata": {},
   "outputs": [],
   "source": [
    "win_size = 10\n",
    "df = df.assign(Amean=df.A.rolling(window=win_size).mean().shift(win_size))\n",
    "df.Amean.plot(figsize=(18,4))"
   ]
  },
  {
   "cell_type": "code",
   "execution_count": null,
   "metadata": {
    "scrolled": false
   },
   "outputs": [],
   "source": [
    "df = df.assign(afterA=df.Amean.shift(-1))\n",
    "df = df.assign(beforeA=df.Amean.shift(1))\n",
    "df.dropna(inplace=True)\n",
    "df = df.assign(peak=(df.Amean > df.beforeA) & (df.Amean > df.afterA))\n",
    "df"
   ]
  },
  {
   "cell_type": "code",
   "execution_count": null,
   "metadata": {},
   "outputs": [],
   "source": [
    "df.Amean.plot(figsize=(14,4))\n",
    "pos = df.index[df.peak]\n",
    "peaks = df.Amean[df.peak]\n",
    "plt.plot(pos.values, peaks.values, 'r*')\n",
    "print(len(peaks))"
   ]
  },
  {
   "cell_type": "code",
   "execution_count": null,
   "metadata": {},
   "outputs": [],
   "source": [
    "from scipy.signal import find_peaks"
   ]
  },
  {
   "cell_type": "code",
   "execution_count": null,
   "metadata": {},
   "outputs": [],
   "source": [
    "h = -40\n",
    "x = df.Amean.values\n",
    "peaks, _ = find_peaks(x, height=h)\n",
    "plt.figure(figsize=(14, 4))\n",
    "plt.plot(x)\n",
    "plt.plot(peaks, x[peaks], \"r*\")\n",
    "plt.plot(np.full_like(x, h), \"--\", color=\"gray\")\n",
    "plt.show()"
   ]
  },
  {
   "cell_type": "code",
   "execution_count": null,
   "metadata": {},
   "outputs": [],
   "source": [
    "peaks, _ = find_peaks(x, distance=10)\n",
    "plt.figure(figsize=(14, 4))\n",
    "plt.plot(x)\n",
    "plt.plot(peaks, x[peaks], \"r*\")\n",
    "plt.show()"
   ]
  },
  {
   "cell_type": "code",
   "execution_count": null,
   "metadata": {},
   "outputs": [],
   "source": [
    "peaks, properties = find_peaks(x, prominence=5)\n",
    "plt.figure(figsize=(14, 4))\n",
    "plt.plot(x)\n",
    "plt.plot(peaks, x[peaks], \"r*\")\n",
    "plt.show()"
   ]
  },
  {
   "cell_type": "code",
   "execution_count": null,
   "metadata": {},
   "outputs": [],
   "source": [
    "peaks, properties = find_peaks(x, height=-50, distance=10, prominence=5)\n",
    "plt.figure(figsize=(14, 4))\n",
    "plt.plot(x)\n",
    "plt.plot(peaks, x[peaks], \"r*\")\n",
    "plt.show()"
   ]
  },
  {
   "cell_type": "code",
   "execution_count": null,
   "metadata": {},
   "outputs": [],
   "source": []
  }
 ],
 "metadata": {
  "kernelspec": {
   "display_name": "Python 3",
   "language": "python",
   "name": "python3"
  },
  "language_info": {
   "codemirror_mode": {
    "name": "ipython",
    "version": 3
   },
   "file_extension": ".py",
   "mimetype": "text/x-python",
   "name": "python",
   "nbconvert_exporter": "python",
   "pygments_lexer": "ipython3",
   "version": "3.6.7"
  }
 },
 "nbformat": 4,
 "nbformat_minor": 2
}
