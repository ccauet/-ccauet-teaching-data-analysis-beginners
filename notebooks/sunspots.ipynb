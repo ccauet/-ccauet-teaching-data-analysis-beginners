{
 "cells": [
  {
   "cell_type": "code",
   "execution_count": null,
   "metadata": {},
   "outputs": [],
   "source": [
    "import os\n",
    "import math\n",
    "\n",
    "import cv2\n",
    "\n",
    "import numpy as np\n",
    "import pandas as pd\n",
    "\n",
    "import matplotlib\n",
    "import matplotlib.pyplot as plt\n",
    "import matplotlib.image as mpimg\n",
    "import matplotlib.patches as patches\n",
    "\n",
    "from uncertainties import ufloat\n",
    "from uncertainties.umath import acos, sqrt\n",
    "\n",
    "%matplotlib inline"
   ]
  },
  {
   "cell_type": "code",
   "execution_count": null,
   "metadata": {},
   "outputs": [],
   "source": [
    "DATA_PATH = \"../data/sunspots/\"\n",
    "TEST_FILE = \"sunspots_1024_20130326.jpg\""
   ]
  },
  {
   "cell_type": "code",
   "execution_count": null,
   "metadata": {},
   "outputs": [],
   "source": [
    "# global variables\n",
    "# crop rectangular coordinates and width + height\n",
    "x, y, h, w = 74, 71, 875, 875\n",
    "\n",
    "# sun radius\n",
    "r_sun = 696342 # km\n",
    "\n",
    "# per pixel (rounded) resolution in km\n",
    "px_w, px_h = round(2 * r_sun / w), round(2 * r_sun / h)\n",
    "print(\"Horizontale und vertikale Auflösung in km: \", px_w, px_h)"
   ]
  },
  {
   "cell_type": "code",
   "execution_count": null,
   "metadata": {},
   "outputs": [],
   "source": [
    "def read_file(path, file_name, show=False):\n",
    "    img = cv2.imread(os.path.join(path, file_name), 0)\n",
    "    \n",
    "    fig, ax = plt.subplots(1, figsize=(10,10))\n",
    "\n",
    "    rect = patches.Rectangle((x,y), w, h, linewidth=1, edgecolor='r', facecolor='none')\n",
    "    ax.add_patch(rect)\n",
    "    \n",
    "    plt.imshow(img)\n",
    "    fig.savefig(f\"check_scale_{file_name}\")\n",
    "    if not show:\n",
    "        fig.clf()\n",
    "\n",
    "    return img"
   ]
  },
  {
   "cell_type": "code",
   "execution_count": null,
   "metadata": {},
   "outputs": [],
   "source": [
    "def get_circles(img, file_name, show=False):\n",
    "    img = img[y:y+h, x:x+w]\n",
    "    img = cv2.medianBlur(img,5)\n",
    "    \n",
    "    cimg = cv2.cvtColor(img, cv2.COLOR_GRAY2BGR)\n",
    "    \n",
    "    circles = cv2.HoughCircles(img,cv2.HOUGH_GRADIENT,1,10,param1=50,param2=10,minRadius=0,maxRadius=20)\n",
    "\n",
    "    annotations = []\n",
    "    if circles is not None:\n",
    "        circles = np.uint16(np.around(circles))\n",
    "        for i in circles[0,:]:\n",
    "            # draw the outer circle\n",
    "            cv2.circle(cimg,(i[0],i[1]),i[2],(0,255,0),2)\n",
    "            # draw the center of the circle\n",
    "            cv2.circle(cimg,(i[0],i[1]),2,(0,0,255),3)\n",
    "            annotations.append([i[0], i[1]])\n",
    "    else:\n",
    "        circles = []\n",
    "    \n",
    "    f, axs = plt.subplots(figsize=(20,20))\n",
    "    plt.subplot(121)\n",
    "    plt.imshow(img, cmap = 'gray')\n",
    "    plt.title('Original Image')\n",
    "    plt.xticks([]), plt.yticks([])\n",
    "    plt.subplot(122)\n",
    "    plt.imshow(cimg, cmap = 'gray')\n",
    "    plt.title('Modified Image'), plt.xticks([]), plt.yticks([])\n",
    "    plt.annotate(f\"+ (0,0)\", (w / 2, h / 2), color=\"red\")\n",
    "    for a in annotations:\n",
    "        plt.annotate(f\"({a[0]}, {a[1]})\", (a[0], a[1]))\n",
    "\n",
    "    plt.savefig(f\"circles_{file_name}\")\n",
    "    if not show:\n",
    "        plt.clf()\n",
    "\n",
    "    return circles"
   ]
  },
  {
   "cell_type": "code",
   "execution_count": null,
   "metadata": {},
   "outputs": [],
   "source": [
    "def calc_phi(circles, file_name):\n",
    "    if len(circles) > 0:\n",
    "        phis = []\n",
    "        for idx, circle in enumerate(circles[0]):\n",
    "            print(f\"> Circle #{idx}\")\n",
    "            (x_px, y_px, r_px) = (circle[0], circle[1], circle[2])\n",
    "            print(f\"Pixel coordinates (x, y, r)=({x_px}px, {y_px}px, {r_px}px)\")\n",
    "            # set (0, 0) to center of sun\n",
    "            (x, y, r) = (x_px - w / 2, y_px - h / 2, r_px)\n",
    "            print(f\"Centered pixel coordinates (x, y, r)=({x}px, {y}px, {r}px)\")\n",
    "            # transform from index position to position/distance in km\n",
    "            (x, y, r) = (x * px_w, y * px_h, r * px_w)\n",
    "            print(f\"Centered scaled coordinates (x, y, r)=({x:.0f}km, {y:.0f}km, {r:.0f}km)\")\n",
    "            \n",
    "            x_unc = ufloat(x, r)\n",
    "            y_unc = ufloat(y, r)\n",
    "            print(f\"(x, y)-coordinates with radius as uncertainty: ({x_unc}, {y_unc})\")\n",
    "        \n",
    "            # effective radius at sunspot latitude\n",
    "            #r_eff_ss = math.sqrt(r_sun**2 - y**2)\n",
    "            #print(f\"Effective radius at sunspot latitude: {r_eff_ss} km\")\n",
    "            r_eff_ss_unc = sqrt(r_sun**2 - y_unc**2)\n",
    "            print(f\"Effective radius at sunspot latitude: {r_eff_ss_unc} km\")\n",
    "            \n",
    "            # phi\n",
    "            if abs(x_unc) > abs(r_eff_ss_unc):\n",
    "                print(f\"WARN: X greater than eff. radius (x={x_unc}, r_eff={r_eff_ss_unc})\")\n",
    "                #phi = np.nan\n",
    "                phi_unc = ufloat(np.nan, np.nan)\n",
    "            else:\n",
    "                #phi = math.acos(x / r_eff_ss)\n",
    "                phi_unc = acos(x_unc / r_eff_ss_unc)\n",
    "        \n",
    "            print(f\"Phi={phi_unc}\")\n",
    "            phis.append([x_px, y_px, r_px, x_unc, y_unc, r_eff_ss_unc, phi_unc, pd.to_datetime(file_name.replace(\".jpg\", \"\").replace(\"sunspots_1024_\", \"\"))])\n",
    "            \n",
    "        df = pd.DataFrame(data=phis, columns=[\"x_py\", \"y_px\", \"r_py\", \"x\", \"y\", \"r_eff_ss\", \"phi\", \"day\"])\n",
    "        out_filename = f\"phi_{file_name.replace('.jpg', '.csv')}\"\n",
    "        df.to_csv(out_filename, sep=\";\")\n",
    "        print(f\"Saved data to {out_filename}\")\n",
    "    else:\n",
    "        print(\"No circles found\")"
   ]
  },
  {
   "cell_type": "code",
   "execution_count": null,
   "metadata": {},
   "outputs": [],
   "source": [
    "img = read_file(DATA_PATH, TEST_FILE, show=True)"
   ]
  },
  {
   "cell_type": "code",
   "execution_count": null,
   "metadata": {},
   "outputs": [],
   "source": [
    "circles = get_circles(img, TEST_FILE, show=True)"
   ]
  },
  {
   "cell_type": "code",
   "execution_count": null,
   "metadata": {},
   "outputs": [],
   "source": [
    "calc_phi(circles, TEST_FILE)"
   ]
  },
  {
   "cell_type": "code",
   "execution_count": null,
   "metadata": {
    "scrolled": false
   },
   "outputs": [],
   "source": [
    "files = [f for f in os.listdir(DATA_PATH) if f.endswith(\".jpg\")]\n",
    "\n",
    "for f in files:\n",
    "    print(f\"===\\nFilename: {f}\")\n",
    "    img = read_file(DATA_PATH, f)\n",
    "    circles = get_circles(img, f)\n",
    "    print(calc_phi(circles, f))"
   ]
  },
  {
   "cell_type": "code",
   "execution_count": null,
   "metadata": {},
   "outputs": [],
   "source": []
  }
 ],
 "metadata": {
  "kernelspec": {
   "display_name": "Python 3",
   "language": "python",
   "name": "python3"
  },
  "language_info": {
   "codemirror_mode": {
    "name": "ipython",
    "version": 3
   },
   "file_extension": ".py",
   "mimetype": "text/x-python",
   "name": "python",
   "nbconvert_exporter": "python",
   "pygments_lexer": "ipython3",
   "version": "3.6.7"
  }
 },
 "nbformat": 4,
 "nbformat_minor": 2
}
